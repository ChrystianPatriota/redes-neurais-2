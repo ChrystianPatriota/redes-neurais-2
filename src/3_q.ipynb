{
 "cells": [
  {
   "cell_type": "code",
   "id": "initial_id",
   "metadata": {
    "collapsed": true,
    "ExecuteTime": {
     "end_time": "2024-06-04T13:22:37.831566Z",
     "start_time": "2024-06-04T13:22:31.834651Z"
    }
   },
   "source": [
    "import numpy as np\n",
    "from keras import Input, Model\n",
    "from keras.src.layers import Dense\n",
    "from matplotlib import pyplot as plt"
   ],
   "outputs": [],
   "execution_count": 1
  },
  {
   "metadata": {},
   "cell_type": "markdown",
   "source": "# Defining means",
   "id": "dd7322ceefca24a4"
  },
  {
   "metadata": {
    "ExecuteTime": {
     "end_time": "2024-06-04T13:22:37.839517Z",
     "start_time": "2024-06-04T13:22:37.831566Z"
    }
   },
   "cell_type": "code",
   "source": [
    "mean1 = [0, 0, 0, 0, 0, 0, 0, 0]\n",
    "mean2 = [4, 0, 0, 0, 0, 0, 0, 0]\n",
    "mean3 = [0, 0, 0, 4, 0, 0, 0, 0]\n",
    "mean4 = [0, 0, 0, 0, 0, 0, 0, 4]"
   ],
   "id": "d69624ce6f00ace2",
   "outputs": [],
   "execution_count": 2
  },
  {
   "metadata": {},
   "cell_type": "markdown",
   "source": "# Creating data",
   "id": "31169e0b2732d856"
  },
  {
   "metadata": {
    "ExecuteTime": {
     "end_time": "2024-06-04T13:22:37.869771Z",
     "start_time": "2024-06-04T13:22:37.839517Z"
    }
   },
   "cell_type": "code",
   "source": [
    "samples = 10000\n",
    "test_samples = int(samples * 0.001)\n",
    "\n",
    "c1 = np.random.normal(mean1, 1, size=(samples, 8))\n",
    "c1_test = np.random.normal(mean1, 1, size=(test_samples, 8))\n",
    "c2 = np.random.normal(mean2, 1, size=(samples, 8))\n",
    "c2_test = np.random.normal(mean2, 1, size=(test_samples, 8))\n",
    "c3 = np.random.normal(mean3, 1, size=(samples, 8))\n",
    "c3_test = np.random.normal(mean3, 1, size=(test_samples, 8))\n",
    "c4 = np.random.normal(mean4, 1, size=(samples, 8))\n",
    "c4_test = np.random.normal(mean4, 1, size=(test_samples, 8))\n",
    "\n",
    "X = np.vstack((c1, c2, c3, c4))"
   ],
   "id": "902d91e9021ffc84",
   "outputs": [],
   "execution_count": 3
  },
  {
   "metadata": {},
   "cell_type": "markdown",
   "source": "# Creating the model",
   "id": "51bba1330f999b0c"
  },
  {
   "metadata": {
    "ExecuteTime": {
     "end_time": "2024-06-04T13:22:38.016715Z",
     "start_time": "2024-06-04T13:22:37.869771Z"
    }
   },
   "cell_type": "code",
   "source": [
    "input_data = Input(shape=(8,))\n",
    "encoded = Dense(2, activation='linear')(input_data)\n",
    "decoded = Dense(8, activation='linear')(encoded)\n",
    "\n",
    "autoencoder = Model(input_data, decoded)\n",
    "\n",
    "autoencoder.compile(optimizer='adam',loss=\"mean_squared_error\")"
   ],
   "id": "4e4da8a5693e851d",
   "outputs": [],
   "execution_count": 4
  },
  {
   "metadata": {},
   "cell_type": "markdown",
   "source": "# Training stage",
   "id": "2f4d1f3b77b974f"
  },
  {
   "metadata": {
    "ExecuteTime": {
     "end_time": "2024-06-04T13:23:53.053105Z",
     "start_time": "2024-06-04T13:22:38.016715Z"
    }
   },
   "cell_type": "code",
   "source": "autoencoder.fit(X, X, epochs=50, batch_size=32, validation_split=0.1)",
   "id": "5ff522dbc452ac20",
   "outputs": [
    {
     "name": "stdout",
     "output_type": "stream",
     "text": [
      "Epoch 1/50\n",
      "\u001B[1m1125/1125\u001B[0m \u001B[32m━━━━━━━━━━━━━━━━━━━━\u001B[0m\u001B[37m\u001B[0m \u001B[1m2s\u001B[0m 1ms/step - loss: 1.9819 - val_loss: 2.0002\n",
      "Epoch 2/50\n",
      "\u001B[1m1125/1125\u001B[0m \u001B[32m━━━━━━━━━━━━━━━━━━━━\u001B[0m\u001B[37m\u001B[0m \u001B[1m1s\u001B[0m 1ms/step - loss: 0.9616 - val_loss: 1.2300\n",
      "Epoch 3/50\n",
      "\u001B[1m1125/1125\u001B[0m \u001B[32m━━━━━━━━━━━━━━━━━━━━\u001B[0m\u001B[37m\u001B[0m \u001B[1m1s\u001B[0m 1ms/step - loss: 0.8901 - val_loss: 0.9096\n",
      "Epoch 4/50\n",
      "\u001B[1m1125/1125\u001B[0m \u001B[32m━━━━━━━━━━━━━━━━━━━━\u001B[0m\u001B[37m\u001B[0m \u001B[1m1s\u001B[0m 1ms/step - loss: 0.8839 - val_loss: 0.8829\n",
      "Epoch 5/50\n",
      "\u001B[1m1125/1125\u001B[0m \u001B[32m━━━━━━━━━━━━━━━━━━━━\u001B[0m\u001B[37m\u001B[0m \u001B[1m1s\u001B[0m 1ms/step - loss: 0.8800 - val_loss: 0.8772\n",
      "Epoch 6/50\n",
      "\u001B[1m1125/1125\u001B[0m \u001B[32m━━━━━━━━━━━━━━━━━━━━\u001B[0m\u001B[37m\u001B[0m \u001B[1m1s\u001B[0m 1ms/step - loss: 0.8812 - val_loss: 0.8801\n",
      "Epoch 7/50\n",
      "\u001B[1m1125/1125\u001B[0m \u001B[32m━━━━━━━━━━━━━━━━━━━━\u001B[0m\u001B[37m\u001B[0m \u001B[1m1s\u001B[0m 1ms/step - loss: 0.8838 - val_loss: 0.8909\n",
      "Epoch 8/50\n",
      "\u001B[1m1125/1125\u001B[0m \u001B[32m━━━━━━━━━━━━━━━━━━━━\u001B[0m\u001B[37m\u001B[0m \u001B[1m1s\u001B[0m 1ms/step - loss: 0.8795 - val_loss: 0.8821\n",
      "Epoch 9/50\n",
      "\u001B[1m1125/1125\u001B[0m \u001B[32m━━━━━━━━━━━━━━━━━━━━\u001B[0m\u001B[37m\u001B[0m \u001B[1m1s\u001B[0m 1ms/step - loss: 0.8818 - val_loss: 0.8831\n",
      "Epoch 10/50\n",
      "\u001B[1m1125/1125\u001B[0m \u001B[32m━━━━━━━━━━━━━━━━━━━━\u001B[0m\u001B[37m\u001B[0m \u001B[1m1s\u001B[0m 1ms/step - loss: 0.8797 - val_loss: 0.8863\n",
      "Epoch 11/50\n",
      "\u001B[1m1125/1125\u001B[0m \u001B[32m━━━━━━━━━━━━━━━━━━━━\u001B[0m\u001B[37m\u001B[0m \u001B[1m1s\u001B[0m 1ms/step - loss: 0.8799 - val_loss: 0.8758\n",
      "Epoch 12/50\n",
      "\u001B[1m1125/1125\u001B[0m \u001B[32m━━━━━━━━━━━━━━━━━━━━\u001B[0m\u001B[37m\u001B[0m \u001B[1m1s\u001B[0m 1ms/step - loss: 0.8777 - val_loss: 0.8771\n",
      "Epoch 13/50\n",
      "\u001B[1m1125/1125\u001B[0m \u001B[32m━━━━━━━━━━━━━━━━━━━━\u001B[0m\u001B[37m\u001B[0m \u001B[1m2s\u001B[0m 1ms/step - loss: 0.8805 - val_loss: 0.8752\n",
      "Epoch 14/50\n",
      "\u001B[1m1125/1125\u001B[0m \u001B[32m━━━━━━━━━━━━━━━━━━━━\u001B[0m\u001B[37m\u001B[0m \u001B[1m2s\u001B[0m 1ms/step - loss: 0.8822 - val_loss: 0.8750\n",
      "Epoch 15/50\n",
      "\u001B[1m1125/1125\u001B[0m \u001B[32m━━━━━━━━━━━━━━━━━━━━\u001B[0m\u001B[37m\u001B[0m \u001B[1m2s\u001B[0m 1ms/step - loss: 0.8840 - val_loss: 0.8686\n",
      "Epoch 16/50\n",
      "\u001B[1m1125/1125\u001B[0m \u001B[32m━━━━━━━━━━━━━━━━━━━━\u001B[0m\u001B[37m\u001B[0m \u001B[1m2s\u001B[0m 1ms/step - loss: 0.8826 - val_loss: 0.8673\n",
      "Epoch 17/50\n",
      "\u001B[1m1125/1125\u001B[0m \u001B[32m━━━━━━━━━━━━━━━━━━━━\u001B[0m\u001B[37m\u001B[0m \u001B[1m2s\u001B[0m 1ms/step - loss: 0.8802 - val_loss: 0.8652\n",
      "Epoch 18/50\n",
      "\u001B[1m1125/1125\u001B[0m \u001B[32m━━━━━━━━━━━━━━━━━━━━\u001B[0m\u001B[37m\u001B[0m \u001B[1m2s\u001B[0m 1ms/step - loss: 0.8848 - val_loss: 0.8901\n",
      "Epoch 19/50\n",
      "\u001B[1m1125/1125\u001B[0m \u001B[32m━━━━━━━━━━━━━━━━━━━━\u001B[0m\u001B[37m\u001B[0m \u001B[1m2s\u001B[0m 1ms/step - loss: 0.8870 - val_loss: 0.8747\n",
      "Epoch 20/50\n",
      "\u001B[1m1125/1125\u001B[0m \u001B[32m━━━━━━━━━━━━━━━━━━━━\u001B[0m\u001B[37m\u001B[0m \u001B[1m2s\u001B[0m 1ms/step - loss: 0.8844 - val_loss: 0.8821\n",
      "Epoch 21/50\n",
      "\u001B[1m1125/1125\u001B[0m \u001B[32m━━━━━━━━━━━━━━━━━━━━\u001B[0m\u001B[37m\u001B[0m \u001B[1m2s\u001B[0m 1ms/step - loss: 0.8801 - val_loss: 0.8820\n",
      "Epoch 22/50\n",
      "\u001B[1m1125/1125\u001B[0m \u001B[32m━━━━━━━━━━━━━━━━━━━━\u001B[0m\u001B[37m\u001B[0m \u001B[1m2s\u001B[0m 2ms/step - loss: 0.8798 - val_loss: 0.8929\n",
      "Epoch 23/50\n",
      "\u001B[1m1125/1125\u001B[0m \u001B[32m━━━━━━━━━━━━━━━━━━━━\u001B[0m\u001B[37m\u001B[0m \u001B[1m2s\u001B[0m 2ms/step - loss: 0.8790 - val_loss: 0.8911\n",
      "Epoch 24/50\n",
      "\u001B[1m1125/1125\u001B[0m \u001B[32m━━━━━━━━━━━━━━━━━━━━\u001B[0m\u001B[37m\u001B[0m \u001B[1m2s\u001B[0m 2ms/step - loss: 0.8854 - val_loss: 0.8865\n",
      "Epoch 25/50\n",
      "\u001B[1m1125/1125\u001B[0m \u001B[32m━━━━━━━━━━━━━━━━━━━━\u001B[0m\u001B[37m\u001B[0m \u001B[1m2s\u001B[0m 2ms/step - loss: 0.8790 - val_loss: 0.8741\n",
      "Epoch 26/50\n",
      "\u001B[1m1125/1125\u001B[0m \u001B[32m━━━━━━━━━━━━━━━━━━━━\u001B[0m\u001B[37m\u001B[0m \u001B[1m2s\u001B[0m 2ms/step - loss: 0.8812 - val_loss: 0.8818\n",
      "Epoch 27/50\n",
      "\u001B[1m1125/1125\u001B[0m \u001B[32m━━━━━━━━━━━━━━━━━━━━\u001B[0m\u001B[37m\u001B[0m \u001B[1m2s\u001B[0m 2ms/step - loss: 0.8868 - val_loss: 0.8923\n",
      "Epoch 28/50\n",
      "\u001B[1m1125/1125\u001B[0m \u001B[32m━━━━━━━━━━━━━━━━━━━━\u001B[0m\u001B[37m\u001B[0m \u001B[1m2s\u001B[0m 2ms/step - loss: 0.8857 - val_loss: 0.8712\n",
      "Epoch 29/50\n",
      "\u001B[1m1125/1125\u001B[0m \u001B[32m━━━━━━━━━━━━━━━━━━━━\u001B[0m\u001B[37m\u001B[0m \u001B[1m2s\u001B[0m 1ms/step - loss: 0.8842 - val_loss: 0.8697\n",
      "Epoch 30/50\n",
      "\u001B[1m1125/1125\u001B[0m \u001B[32m━━━━━━━━━━━━━━━━━━━━\u001B[0m\u001B[37m\u001B[0m \u001B[1m2s\u001B[0m 1ms/step - loss: 0.8814 - val_loss: 0.8807\n",
      "Epoch 31/50\n",
      "\u001B[1m1125/1125\u001B[0m \u001B[32m━━━━━━━━━━━━━━━━━━━━\u001B[0m\u001B[37m\u001B[0m \u001B[1m1s\u001B[0m 1ms/step - loss: 0.8828 - val_loss: 0.8870\n",
      "Epoch 32/50\n",
      "\u001B[1m1125/1125\u001B[0m \u001B[32m━━━━━━━━━━━━━━━━━━━━\u001B[0m\u001B[37m\u001B[0m \u001B[1m1s\u001B[0m 1ms/step - loss: 0.8893 - val_loss: 0.8797\n",
      "Epoch 33/50\n",
      "\u001B[1m1125/1125\u001B[0m \u001B[32m━━━━━━━━━━━━━━━━━━━━\u001B[0m\u001B[37m\u001B[0m \u001B[1m1s\u001B[0m 1ms/step - loss: 0.8789 - val_loss: 0.8735\n",
      "Epoch 34/50\n",
      "\u001B[1m1125/1125\u001B[0m \u001B[32m━━━━━━━━━━━━━━━━━━━━\u001B[0m\u001B[37m\u001B[0m \u001B[1m1s\u001B[0m 1ms/step - loss: 0.8794 - val_loss: 0.8795\n",
      "Epoch 35/50\n",
      "\u001B[1m1125/1125\u001B[0m \u001B[32m━━━━━━━━━━━━━━━━━━━━\u001B[0m\u001B[37m\u001B[0m \u001B[1m1s\u001B[0m 1ms/step - loss: 0.8831 - val_loss: 0.8854\n",
      "Epoch 36/50\n",
      "\u001B[1m1125/1125\u001B[0m \u001B[32m━━━━━━━━━━━━━━━━━━━━\u001B[0m\u001B[37m\u001B[0m \u001B[1m1s\u001B[0m 1ms/step - loss: 0.8810 - val_loss: 0.8824\n",
      "Epoch 37/50\n",
      "\u001B[1m1125/1125\u001B[0m \u001B[32m━━━━━━━━━━━━━━━━━━━━\u001B[0m\u001B[37m\u001B[0m \u001B[1m1s\u001B[0m 1ms/step - loss: 0.8872 - val_loss: 0.8842\n",
      "Epoch 38/50\n",
      "\u001B[1m1125/1125\u001B[0m \u001B[32m━━━━━━━━━━━━━━━━━━━━\u001B[0m\u001B[37m\u001B[0m \u001B[1m1s\u001B[0m 1ms/step - loss: 0.8834 - val_loss: 0.8835\n",
      "Epoch 39/50\n",
      "\u001B[1m1125/1125\u001B[0m \u001B[32m━━━━━━━━━━━━━━━━━━━━\u001B[0m\u001B[37m\u001B[0m \u001B[1m1s\u001B[0m 1ms/step - loss: 0.8796 - val_loss: 0.9021\n",
      "Epoch 40/50\n",
      "\u001B[1m1125/1125\u001B[0m \u001B[32m━━━━━━━━━━━━━━━━━━━━\u001B[0m\u001B[37m\u001B[0m \u001B[1m1s\u001B[0m 1ms/step - loss: 0.8819 - val_loss: 0.8909\n",
      "Epoch 41/50\n",
      "\u001B[1m1125/1125\u001B[0m \u001B[32m━━━━━━━━━━━━━━━━━━━━\u001B[0m\u001B[37m\u001B[0m \u001B[1m1s\u001B[0m 1ms/step - loss: 0.8847 - val_loss: 0.8871\n",
      "Epoch 42/50\n",
      "\u001B[1m1125/1125\u001B[0m \u001B[32m━━━━━━━━━━━━━━━━━━━━\u001B[0m\u001B[37m\u001B[0m \u001B[1m1s\u001B[0m 1ms/step - loss: 0.8873 - val_loss: 0.8948\n",
      "Epoch 43/50\n",
      "\u001B[1m1125/1125\u001B[0m \u001B[32m━━━━━━━━━━━━━━━━━━━━\u001B[0m\u001B[37m\u001B[0m \u001B[1m1s\u001B[0m 1ms/step - loss: 0.8775 - val_loss: 0.8902\n",
      "Epoch 44/50\n",
      "\u001B[1m1125/1125\u001B[0m \u001B[32m━━━━━━━━━━━━━━━━━━━━\u001B[0m\u001B[37m\u001B[0m \u001B[1m1s\u001B[0m 1ms/step - loss: 0.8824 - val_loss: 0.8771\n",
      "Epoch 45/50\n",
      "\u001B[1m1125/1125\u001B[0m \u001B[32m━━━━━━━━━━━━━━━━━━━━\u001B[0m\u001B[37m\u001B[0m \u001B[1m1s\u001B[0m 1ms/step - loss: 0.8823 - val_loss: 0.8747\n",
      "Epoch 46/50\n",
      "\u001B[1m1125/1125\u001B[0m \u001B[32m━━━━━━━━━━━━━━━━━━━━\u001B[0m\u001B[37m\u001B[0m \u001B[1m1s\u001B[0m 1ms/step - loss: 0.8874 - val_loss: 0.8867\n",
      "Epoch 47/50\n",
      "\u001B[1m1125/1125\u001B[0m \u001B[32m━━━━━━━━━━━━━━━━━━━━\u001B[0m\u001B[37m\u001B[0m \u001B[1m1s\u001B[0m 1ms/step - loss: 0.8794 - val_loss: 0.8786\n",
      "Epoch 48/50\n",
      "\u001B[1m1125/1125\u001B[0m \u001B[32m━━━━━━━━━━━━━━━━━━━━\u001B[0m\u001B[37m\u001B[0m \u001B[1m1s\u001B[0m 1ms/step - loss: 0.8888 - val_loss: 0.8781\n",
      "Epoch 49/50\n",
      "\u001B[1m1125/1125\u001B[0m \u001B[32m━━━━━━━━━━━━━━━━━━━━\u001B[0m\u001B[37m\u001B[0m \u001B[1m1s\u001B[0m 1ms/step - loss: 0.8830 - val_loss: 0.8784\n",
      "Epoch 50/50\n",
      "\u001B[1m1125/1125\u001B[0m \u001B[32m━━━━━━━━━━━━━━━━━━━━\u001B[0m\u001B[37m\u001B[0m \u001B[1m1s\u001B[0m 1ms/step - loss: 0.8810 - val_loss: 0.8748\n"
     ]
    },
    {
     "data": {
      "text/plain": [
       "<keras.src.callbacks.history.History at 0x1d986bc0190>"
      ]
     },
     "execution_count": 5,
     "metadata": {},
     "output_type": "execute_result"
    }
   ],
   "execution_count": 5
  },
  {
   "metadata": {},
   "cell_type": "markdown",
   "source": "# Encoding model",
   "id": "12d72a9df8a8ea6e"
  },
  {
   "metadata": {
    "ExecuteTime": {
     "end_time": "2024-06-04T13:23:53.061875Z",
     "start_time": "2024-06-04T13:23:53.053105Z"
    }
   },
   "cell_type": "code",
   "source": "encoder = Model(input_data, encoded)",
   "id": "7db7e53ce492952b",
   "outputs": [],
   "execution_count": 6
  },
  {
   "metadata": {},
   "cell_type": "markdown",
   "source": "# Changing dimensions",
   "id": "4ef74ab222657454"
  },
  {
   "metadata": {
    "ExecuteTime": {
     "end_time": "2024-06-04T13:23:53.395287Z",
     "start_time": "2024-06-04T13:23:53.061875Z"
    }
   },
   "cell_type": "code",
   "source": [
    "encoded_data_m1 = encoder.predict(c1_test)\n",
    "encoded_data_m2 = encoder.predict(c2_test)\n",
    "encoded_data_m3 = encoder.predict(c3_test)\n",
    "encoded_data_m4 = encoder.predict(c4_test)"
   ],
   "id": "b013e911a6c7c3d3",
   "outputs": [
    {
     "name": "stdout",
     "output_type": "stream",
     "text": [
      "\u001B[1m1/1\u001B[0m \u001B[32m━━━━━━━━━━━━━━━━━━━━\u001B[0m\u001B[37m\u001B[0m \u001B[1m0s\u001B[0m 47ms/step\n",
      "\u001B[1m1/1\u001B[0m \u001B[32m━━━━━━━━━━━━━━━━━━━━\u001B[0m\u001B[37m\u001B[0m \u001B[1m0s\u001B[0m 31ms/step\n",
      "\u001B[1m1/1\u001B[0m \u001B[32m━━━━━━━━━━━━━━━━━━━━\u001B[0m\u001B[37m\u001B[0m \u001B[1m0s\u001B[0m 16ms/step\n",
      "\u001B[1m1/1\u001B[0m \u001B[32m━━━━━━━━━━━━━━━━━━━━\u001B[0m\u001B[37m\u001B[0m \u001B[1m0s\u001B[0m 31ms/step\n"
     ]
    }
   ],
   "execution_count": 7
  },
  {
   "metadata": {},
   "cell_type": "markdown",
   "source": "# Scatter plotting",
   "id": "3523823305f62128"
  },
  {
   "metadata": {
    "ExecuteTime": {
     "end_time": "2024-06-04T13:23:53.640141Z",
     "start_time": "2024-06-04T13:23:53.395287Z"
    }
   },
   "cell_type": "code",
   "source": [
    "plt.scatter(encoded_data_m2[:, 0], encoded_data_m2[:, 1], c=\"yellow\")\n",
    "plt.scatter(encoded_data_m3[:, 0], encoded_data_m3[:, 1], c=\"green\")\n",
    "plt.scatter(encoded_data_m4[:, 0], encoded_data_m4[:, 1], c=\"red\")\n",
    "plt.scatter(encoded_data_m1[:, 0], encoded_data_m1[:, 1])\n",
    "plt.title('Dim reduzida usando encoder')\n",
    "plt.xlabel('Feature 1')\n",
    "plt.ylabel('Feature 2')\n",
    "plt.show()"
   ],
   "id": "390ff9c90236a7bc",
   "outputs": [
    {
     "data": {
      "text/plain": [
       "<Figure size 640x480 with 1 Axes>"
      ],
      "image/png": "[encoded data removed]"
     },
     "metadata": {},
     "output_type": "display_data"
    }
   ],
   "execution_count": 8
  }
 ],
 "metadata": {
  "kernelspec": {
   "display_name": "Python 3",
   "language": "python",
   "name": "python3"
  },
  "language_info": {
   "codemirror_mode": {
    "name": "ipython",
    "version": 2
   },
   "file_extension": ".py",
   "mimetype": "text/x-python",
   "name": "python",
   "nbconvert_exporter": "python",
   "pygments_lexer": "ipython2",
   "version": "2.7.6"
  }
 },
 "nbformat": 4,
 "nbformat_minor": 5
}
