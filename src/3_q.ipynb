{
 "cells": [
  {
   "cell_type": "code",
   "id": "initial_id",
   "metadata": {
    "collapsed": true,
    "ExecuteTime": {
     "end_time": "2024-06-04T00:40:20.482927Z",
     "start_time": "2024-06-04T00:40:20.471626Z"
    }
   },
   "source": [
    "import numpy as np\n",
    "from keras import Input, Model\n",
    "from keras.src.layers import Dense\n",
    "from matplotlib import pyplot as plt"
   ],
   "outputs": [],
   "execution_count": 41
  },
  {
   "metadata": {},
   "cell_type": "markdown",
   "source": "# Defining means",
   "id": "dd7322ceefca24a4"
  },
  {
   "metadata": {
    "ExecuteTime": {
     "end_time": "2024-06-04T00:40:20.502896Z",
     "start_time": "2024-06-04T00:40:20.496490Z"
    }
   },
   "cell_type": "code",
   "source": [
    "mean1 = [0, 0, 0, 0, 0, 0, 0, 0]\n",
    "mean2 = [4, 0, 0, 0, 0, 0, 0, 0]\n",
    "mean3 = [0, 0, 0, 4, 0, 0, 0, 0]\n",
    "mean4 = [0, 0, 0, 0, 0, 0, 0, 4]"
   ],
   "id": "d69624ce6f00ace2",
   "outputs": [],
   "execution_count": 42
  },
  {
   "metadata": {},
   "cell_type": "markdown",
   "source": "# Creating data",
   "id": "31169e0b2732d856"
  },
  {
   "metadata": {
    "ExecuteTime": {
     "end_time": "2024-06-04T00:40:20.536175Z",
     "start_time": "2024-06-04T00:40:20.516744Z"
    }
   },
   "cell_type": "code",
   "source": [
    "samples = 10000\n",
    "test_samples = int(samples * 0.001)\n",
    "\n",
    "c1 = np.random.normal(mean1, 1, size=(samples, 8))\n",
    "c1_test = np.random.normal(mean1, 1, size=(test_samples, 8))\n",
    "c2 = np.random.normal(mean2, 1, size=(samples, 8))\n",
    "c2_test = np.random.normal(mean2, 1, size=(test_samples, 8))\n",
    "c3 = np.random.normal(mean3, 1, size=(samples, 8))\n",
    "c3_test = np.random.normal(mean3, 1, size=(test_samples, 8))\n",
    "c4 = np.random.normal(mean4, 1, size=(samples, 8))\n",
    "c4_test = np.random.normal(mean4, 1, size=(test_samples, 8))\n",
    "\n",
    "X = np.vstack((c1, c2, c3, c4))"
   ],
   "id": "902d91e9021ffc84",
   "outputs": [],
   "execution_count": 43
  },
  {
   "metadata": {},
   "cell_type": "markdown",
   "source": "# Creating the model",
   "id": "51bba1330f999b0c"
  },
  {
   "metadata": {
    "ExecuteTime": {
     "end_time": "2024-06-04T00:40:20.559953Z",
     "start_time": "2024-06-04T00:40:20.536175Z"
    }
   },
   "cell_type": "code",
   "source": [
    "input_data = Input(shape=(8,))\n",
    "encoded = Dense(2, activation='linear')(input_data)\n",
    "decoded = Dense(8, activation='linear')(encoded)\n",
    "\n",
    "autoencoder = Model(input_data, decoded)\n",
    "\n",
    "autoencoder.compile(optimizer='adam',loss=\"mean_squared_error\")"
   ],
   "id": "4e4da8a5693e851d",
   "outputs": [],
   "execution_count": 44
  },
  {
   "metadata": {},
   "cell_type": "markdown",
   "source": "# Training stage",
   "id": "2f4d1f3b77b974f"
  },
  {
   "metadata": {
    "ExecuteTime": {
     "end_time": "2024-06-04T00:40:58.574152Z",
     "start_time": "2024-06-04T00:40:20.559953Z"
    }
   },
   "cell_type": "code",
   "source": "autoencoder.fit(X, X, epochs=50, batch_size=32, validation_split=0.1)",
   "id": "5ff522dbc452ac20",
   "outputs": [
    {
     "name": "stdout",
     "output_type": "stream",
     "text": [
      "Epoch 1/50\n",
      "\u001B[1m1125/1125\u001B[0m \u001B[32m━━━━━━━━━━━━━━━━━━━━\u001B[0m\u001B[37m\u001B[0m \u001B[1m1s\u001B[0m 738us/step - loss: 2.2190 - val_loss: 0.8685\n",
      "Epoch 2/50\n",
      "\u001B[1m1125/1125\u001B[0m \u001B[32m━━━━━━━━━━━━━━━━━━━━\u001B[0m\u001B[37m\u001B[0m \u001B[1m1s\u001B[0m 649us/step - loss: 1.1835 - val_loss: 0.9925\n",
      "Epoch 3/50\n",
      "\u001B[1m1125/1125\u001B[0m \u001B[32m━━━━━━━━━━━━━━━━━━━━\u001B[0m\u001B[37m\u001B[0m \u001B[1m1s\u001B[0m 624us/step - loss: 0.8950 - val_loss: 0.9179\n",
      "Epoch 4/50\n",
      "\u001B[1m1125/1125\u001B[0m \u001B[32m━━━━━━━━━━━━━━━━━━━━\u001B[0m\u001B[37m\u001B[0m \u001B[1m1s\u001B[0m 637us/step - loss: 0.8912 - val_loss: 0.8786\n",
      "Epoch 5/50\n",
      "\u001B[1m1125/1125\u001B[0m \u001B[32m━━━━━━━━━━━━━━━━━━━━\u001B[0m\u001B[37m\u001B[0m \u001B[1m1s\u001B[0m 622us/step - loss: 0.8841 - val_loss: 0.8721\n",
      "Epoch 6/50\n",
      "\u001B[1m1125/1125\u001B[0m \u001B[32m━━━━━━━━━━━━━━━━━━━━\u001B[0m\u001B[37m\u001B[0m \u001B[1m1s\u001B[0m 641us/step - loss: 0.8875 - val_loss: 0.8821\n",
      "Epoch 7/50\n",
      "\u001B[1m1125/1125\u001B[0m \u001B[32m━━━━━━━━━━━━━━━━━━━━\u001B[0m\u001B[37m\u001B[0m \u001B[1m1s\u001B[0m 642us/step - loss: 0.8890 - val_loss: 0.8919\n",
      "Epoch 8/50\n",
      "\u001B[1m1125/1125\u001B[0m \u001B[32m━━━━━━━━━━━━━━━━━━━━\u001B[0m\u001B[37m\u001B[0m \u001B[1m1s\u001B[0m 646us/step - loss: 0.8898 - val_loss: 0.8819\n",
      "Epoch 9/50\n",
      "\u001B[1m1125/1125\u001B[0m \u001B[32m━━━━━━━━━━━━━━━━━━━━\u001B[0m\u001B[37m\u001B[0m \u001B[1m1s\u001B[0m 637us/step - loss: 0.8840 - val_loss: 0.8865\n",
      "Epoch 10/50\n",
      "\u001B[1m1125/1125\u001B[0m \u001B[32m━━━━━━━━━━━━━━━━━━━━\u001B[0m\u001B[37m\u001B[0m \u001B[1m1s\u001B[0m 641us/step - loss: 0.8840 - val_loss: 0.8977\n",
      "Epoch 11/50\n",
      "\u001B[1m1125/1125\u001B[0m \u001B[32m━━━━━━━━━━━━━━━━━━━━\u001B[0m\u001B[37m\u001B[0m \u001B[1m1s\u001B[0m 649us/step - loss: 0.8877 - val_loss: 0.9089\n",
      "Epoch 12/50\n",
      "\u001B[1m1125/1125\u001B[0m \u001B[32m━━━━━━━━━━━━━━━━━━━━\u001B[0m\u001B[37m\u001B[0m \u001B[1m1s\u001B[0m 653us/step - loss: 0.8865 - val_loss: 0.8802\n",
      "Epoch 13/50\n",
      "\u001B[1m1125/1125\u001B[0m \u001B[32m━━━━━━━━━━━━━━━━━━━━\u001B[0m\u001B[37m\u001B[0m \u001B[1m1s\u001B[0m 640us/step - loss: 0.8851 - val_loss: 0.8742\n",
      "Epoch 14/50\n",
      "\u001B[1m1125/1125\u001B[0m \u001B[32m━━━━━━━━━━━━━━━━━━━━\u001B[0m\u001B[37m\u001B[0m \u001B[1m1s\u001B[0m 649us/step - loss: 0.8867 - val_loss: 0.8955\n",
      "Epoch 15/50\n",
      "\u001B[1m1125/1125\u001B[0m \u001B[32m━━━━━━━━━━━━━━━━━━━━\u001B[0m\u001B[37m\u001B[0m \u001B[1m1s\u001B[0m 641us/step - loss: 0.8824 - val_loss: 0.8916\n",
      "Epoch 16/50\n",
      "\u001B[1m1125/1125\u001B[0m \u001B[32m━━━━━━━━━━━━━━━━━━━━\u001B[0m\u001B[37m\u001B[0m \u001B[1m1s\u001B[0m 641us/step - loss: 0.8853 - val_loss: 0.8793\n",
      "Epoch 17/50\n",
      "\u001B[1m1125/1125\u001B[0m \u001B[32m━━━━━━━━━━━━━━━━━━━━\u001B[0m\u001B[37m\u001B[0m \u001B[1m1s\u001B[0m 635us/step - loss: 0.8894 - val_loss: 0.8825\n",
      "Epoch 18/50\n",
      "\u001B[1m1125/1125\u001B[0m \u001B[32m━━━━━━━━━━━━━━━━━━━━\u001B[0m\u001B[37m\u001B[0m \u001B[1m1s\u001B[0m 640us/step - loss: 0.8873 - val_loss: 0.8966\n",
      "Epoch 19/50\n",
      "\u001B[1m1125/1125\u001B[0m \u001B[32m━━━━━━━━━━━━━━━━━━━━\u001B[0m\u001B[37m\u001B[0m \u001B[1m1s\u001B[0m 650us/step - loss: 0.8857 - val_loss: 0.8837\n",
      "Epoch 20/50\n",
      "\u001B[1m1125/1125\u001B[0m \u001B[32m━━━━━━━━━━━━━━━━━━━━\u001B[0m\u001B[37m\u001B[0m \u001B[1m1s\u001B[0m 632us/step - loss: 0.8826 - val_loss: 0.8923\n",
      "Epoch 21/50\n",
      "\u001B[1m1125/1125\u001B[0m \u001B[32m━━━━━━━━━━━━━━━━━━━━\u001B[0m\u001B[37m\u001B[0m \u001B[1m1s\u001B[0m 716us/step - loss: 0.8869 - val_loss: 0.8862\n",
      "Epoch 22/50\n",
      "\u001B[1m1125/1125\u001B[0m \u001B[32m━━━━━━━━━━━━━━━━━━━━\u001B[0m\u001B[37m\u001B[0m \u001B[1m1s\u001B[0m 641us/step - loss: 0.8848 - val_loss: 0.8873\n",
      "Epoch 23/50\n",
      "\u001B[1m1125/1125\u001B[0m \u001B[32m━━━━━━━━━━━━━━━━━━━━\u001B[0m\u001B[37m\u001B[0m \u001B[1m1s\u001B[0m 638us/step - loss: 0.8867 - val_loss: 0.9088\n",
      "Epoch 24/50\n",
      "\u001B[1m1125/1125\u001B[0m \u001B[32m━━━━━━━━━━━━━━━━━━━━\u001B[0m\u001B[37m\u001B[0m \u001B[1m1s\u001B[0m 634us/step - loss: 0.8870 - val_loss: 0.8737\n",
      "Epoch 25/50\n",
      "\u001B[1m1125/1125\u001B[0m \u001B[32m━━━━━━━━━━━━━━━━━━━━\u001B[0m\u001B[37m\u001B[0m \u001B[1m1s\u001B[0m 623us/step - loss: 0.8869 - val_loss: 0.8820\n",
      "Epoch 26/50\n",
      "\u001B[1m1125/1125\u001B[0m \u001B[32m━━━━━━━━━━━━━━━━━━━━\u001B[0m\u001B[37m\u001B[0m \u001B[1m1s\u001B[0m 641us/step - loss: 0.8889 - val_loss: 0.8855\n",
      "Epoch 27/50\n",
      "\u001B[1m1125/1125\u001B[0m \u001B[32m━━━━━━━━━━━━━━━━━━━━\u001B[0m\u001B[37m\u001B[0m \u001B[1m1s\u001B[0m 644us/step - loss: 0.8851 - val_loss: 0.8884\n",
      "Epoch 28/50\n",
      "\u001B[1m1125/1125\u001B[0m \u001B[32m━━━━━━━━━━━━━━━━━━━━\u001B[0m\u001B[37m\u001B[0m \u001B[1m1s\u001B[0m 641us/step - loss: 0.8879 - val_loss: 0.8876\n",
      "Epoch 29/50\n",
      "\u001B[1m1125/1125\u001B[0m \u001B[32m━━━━━━━━━━━━━━━━━━━━\u001B[0m\u001B[37m\u001B[0m \u001B[1m1s\u001B[0m 636us/step - loss: 0.8812 - val_loss: 0.8985\n",
      "Epoch 30/50\n",
      "\u001B[1m1125/1125\u001B[0m \u001B[32m━━━━━━━━━━━━━━━━━━━━\u001B[0m\u001B[37m\u001B[0m \u001B[1m1s\u001B[0m 641us/step - loss: 0.8863 - val_loss: 0.9109\n",
      "Epoch 31/50\n",
      "\u001B[1m1125/1125\u001B[0m \u001B[32m━━━━━━━━━━━━━━━━━━━━\u001B[0m\u001B[37m\u001B[0m \u001B[1m1s\u001B[0m 645us/step - loss: 0.8857 - val_loss: 0.8923\n",
      "Epoch 32/50\n",
      "\u001B[1m1125/1125\u001B[0m \u001B[32m━━━━━━━━━━━━━━━━━━━━\u001B[0m\u001B[37m\u001B[0m \u001B[1m1s\u001B[0m 642us/step - loss: 0.8869 - val_loss: 0.8805\n",
      "Epoch 33/50\n",
      "\u001B[1m1125/1125\u001B[0m \u001B[32m━━━━━━━━━━━━━━━━━━━━\u001B[0m\u001B[37m\u001B[0m \u001B[1m1s\u001B[0m 632us/step - loss: 0.8808 - val_loss: 0.8945\n",
      "Epoch 34/50\n",
      "\u001B[1m1125/1125\u001B[0m \u001B[32m━━━━━━━━━━━━━━━━━━━━\u001B[0m\u001B[37m\u001B[0m \u001B[1m1s\u001B[0m 641us/step - loss: 0.8871 - val_loss: 0.8739\n",
      "Epoch 35/50\n",
      "\u001B[1m1125/1125\u001B[0m \u001B[32m━━━━━━━━━━━━━━━━━━━━\u001B[0m\u001B[37m\u001B[0m \u001B[1m1s\u001B[0m 648us/step - loss: 0.8815 - val_loss: 0.9096\n",
      "Epoch 36/50\n",
      "\u001B[1m1125/1125\u001B[0m \u001B[32m━━━━━━━━━━━━━━━━━━━━\u001B[0m\u001B[37m\u001B[0m \u001B[1m1s\u001B[0m 647us/step - loss: 0.8909 - val_loss: 0.8991\n",
      "Epoch 37/50\n",
      "\u001B[1m1125/1125\u001B[0m \u001B[32m━━━━━━━━━━━━━━━━━━━━\u001B[0m\u001B[37m\u001B[0m \u001B[1m1s\u001B[0m 635us/step - loss: 0.8828 - val_loss: 0.8902\n",
      "Epoch 38/50\n",
      "\u001B[1m1125/1125\u001B[0m \u001B[32m━━━━━━━━━━━━━━━━━━━━\u001B[0m\u001B[37m\u001B[0m \u001B[1m1s\u001B[0m 647us/step - loss: 0.8893 - val_loss: 0.8933\n",
      "Epoch 39/50\n",
      "\u001B[1m1125/1125\u001B[0m \u001B[32m━━━━━━━━━━━━━━━━━━━━\u001B[0m\u001B[37m\u001B[0m \u001B[1m1s\u001B[0m 635us/step - loss: 0.8868 - val_loss: 0.8813\n",
      "Epoch 40/50\n",
      "\u001B[1m1125/1125\u001B[0m \u001B[32m━━━━━━━━━━━━━━━━━━━━\u001B[0m\u001B[37m\u001B[0m \u001B[1m1s\u001B[0m 641us/step - loss: 0.8836 - val_loss: 0.8881\n",
      "Epoch 41/50\n",
      "\u001B[1m1125/1125\u001B[0m \u001B[32m━━━━━━━━━━━━━━━━━━━━\u001B[0m\u001B[37m\u001B[0m \u001B[1m1s\u001B[0m 658us/step - loss: 0.8842 - val_loss: 0.9009\n",
      "Epoch 42/50\n",
      "\u001B[1m1125/1125\u001B[0m \u001B[32m━━━━━━━━━━━━━━━━━━━━\u001B[0m\u001B[37m\u001B[0m \u001B[1m1s\u001B[0m 646us/step - loss: 0.8833 - val_loss: 0.8785\n",
      "Epoch 43/50\n",
      "\u001B[1m1125/1125\u001B[0m \u001B[32m━━━━━━━━━━━━━━━━━━━━\u001B[0m\u001B[37m\u001B[0m \u001B[1m1s\u001B[0m 649us/step - loss: 0.8843 - val_loss: 0.9121\n",
      "Epoch 44/50\n",
      "\u001B[1m1125/1125\u001B[0m \u001B[32m━━━━━━━━━━━━━━━━━━━━\u001B[0m\u001B[37m\u001B[0m \u001B[1m1s\u001B[0m 632us/step - loss: 0.8898 - val_loss: 0.8915\n",
      "Epoch 45/50\n",
      "\u001B[1m1125/1125\u001B[0m \u001B[32m━━━━━━━━━━━━━━━━━━━━\u001B[0m\u001B[37m\u001B[0m \u001B[1m1s\u001B[0m 632us/step - loss: 0.8861 - val_loss: 0.8912\n",
      "Epoch 46/50\n",
      "\u001B[1m1125/1125\u001B[0m \u001B[32m━━━━━━━━━━━━━━━━━━━━\u001B[0m\u001B[37m\u001B[0m \u001B[1m1s\u001B[0m 649us/step - loss: 0.8850 - val_loss: 0.8822\n",
      "Epoch 47/50\n",
      "\u001B[1m1125/1125\u001B[0m \u001B[32m━━━━━━━━━━━━━━━━━━━━\u001B[0m\u001B[37m\u001B[0m \u001B[1m1s\u001B[0m 649us/step - loss: 0.8886 - val_loss: 0.8875\n",
      "Epoch 48/50\n",
      "\u001B[1m1125/1125\u001B[0m \u001B[32m━━━━━━━━━━━━━━━━━━━━\u001B[0m\u001B[37m\u001B[0m \u001B[1m1s\u001B[0m 627us/step - loss: 0.8893 - val_loss: 0.8711\n",
      "Epoch 49/50\n",
      "\u001B[1m1125/1125\u001B[0m \u001B[32m━━━━━━━━━━━━━━━━━━━━\u001B[0m\u001B[37m\u001B[0m \u001B[1m1s\u001B[0m 641us/step - loss: 0.8910 - val_loss: 0.8823\n",
      "Epoch 50/50\n",
      "\u001B[1m1125/1125\u001B[0m \u001B[32m━━━━━━━━━━━━━━━━━━━━\u001B[0m\u001B[37m\u001B[0m \u001B[1m1s\u001B[0m 623us/step - loss: 0.8879 - val_loss: 0.8984\n"
     ]
    },
    {
     "data": {
      "text/plain": [
       "<keras.src.callbacks.history.History at 0x2a241d3af50>"
      ]
     },
     "execution_count": 45,
     "metadata": {},
     "output_type": "execute_result"
    }
   ],
   "execution_count": 45
  },
  {
   "metadata": {},
   "cell_type": "markdown",
   "source": "# Encoding model",
   "id": "12d72a9df8a8ea6e"
  },
  {
   "metadata": {
    "ExecuteTime": {
     "end_time": "2024-06-04T00:40:58.580202Z",
     "start_time": "2024-06-04T00:40:58.575177Z"
    }
   },
   "cell_type": "code",
   "source": "encoder = Model(input_data, encoded)",
   "id": "7db7e53ce492952b",
   "outputs": [],
   "execution_count": 46
  },
  {
   "metadata": {},
   "cell_type": "markdown",
   "source": "# Changing dimensions",
   "id": "4ef74ab222657454"
  },
  {
   "metadata": {
    "ExecuteTime": {
     "end_time": "2024-06-04T00:40:58.827585Z",
     "start_time": "2024-06-04T00:40:58.580202Z"
    }
   },
   "cell_type": "code",
   "source": [
    "encoded_data_m1 = encoder.predict(c1_test)\n",
    "encoded_data_m2 = encoder.predict(c2_test)\n",
    "encoded_data_m3 = encoder.predict(c3_test)\n",
    "encoded_data_m4 = encoder.predict(c4_test)"
   ],
   "id": "b013e911a6c7c3d3",
   "outputs": [
    {
     "name": "stdout",
     "output_type": "stream",
     "text": [
      "\u001B[1m1/1\u001B[0m \u001B[32m━━━━━━━━━━━━━━━━━━━━\u001B[0m\u001B[37m\u001B[0m \u001B[1m0s\u001B[0m 30ms/step\n",
      "\u001B[1m1/1\u001B[0m \u001B[32m━━━━━━━━━━━━━━━━━━━━\u001B[0m\u001B[37m\u001B[0m \u001B[1m0s\u001B[0m 20ms/step\n",
      "\u001B[1m1/1\u001B[0m \u001B[32m━━━━━━━━━━━━━━━━━━━━\u001B[0m\u001B[37m\u001B[0m \u001B[1m0s\u001B[0m 20ms/step\n",
      "\u001B[1m1/1\u001B[0m \u001B[32m━━━━━━━━━━━━━━━━━━━━\u001B[0m\u001B[37m\u001B[0m \u001B[1m0s\u001B[0m 20ms/step\n"
     ]
    }
   ],
   "execution_count": 47
  },
  {
   "metadata": {},
   "cell_type": "markdown",
   "source": "# Scatter plotting",
   "id": "3523823305f62128"
  },
  {
   "metadata": {
    "ExecuteTime": {
     "end_time": "2024-06-04T00:40:58.981834Z",
     "start_time": "2024-06-04T00:40:58.827585Z"
    }
   },
   "cell_type": "code",
   "source": [
    "plt.scatter(encoded_data_m2[:, 0], encoded_data_m2[:, 1], c=\"yellow\")\n",
    "plt.scatter(encoded_data_m3[:, 0], encoded_data_m3[:, 1], c=\"green\")\n",
    "plt.scatter(encoded_data_m4[:, 0], encoded_data_m4[:, 1], c=\"red\")\n",
    "plt.scatter(encoded_data_m1[:, 0], encoded_data_m1[:, 1])\n",
    "plt.title('Dados Reduzidos usando Autoencoder')\n",
    "plt.xlabel('Feature 1')\n",
    "plt.ylabel('Feature 2')\n",
    "plt.show()"
   ],
   "id": "390ff9c90236a7bc",
   "outputs": [
    {
     "data": {
      "text/plain": [
       "<Figure size 640x480 with 1 Axes>"
      ],
      "image/png": "[encoded data removed]"
     },
     "metadata": {},
     "output_type": "display_data"
    }
   ],
   "execution_count": 48
  }
 ],
 "metadata": {
  "kernelspec": {
   "display_name": "Python 3",
   "language": "python",
   "name": "python3"
  },
  "language_info": {
   "codemirror_mode": {
    "name": "ipython",
    "version": 2
   },
   "file_extension": ".py",
   "mimetype": "text/x-python",
   "name": "python",
   "nbconvert_exporter": "python",
   "pygments_lexer": "ipython2",
   "version": "2.7.6"
  }
 },
 "nbformat": 4,
 "nbformat_minor": 5
}
